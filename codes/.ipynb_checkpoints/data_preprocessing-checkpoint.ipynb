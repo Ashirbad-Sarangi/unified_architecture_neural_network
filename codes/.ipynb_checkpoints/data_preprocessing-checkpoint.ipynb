{
 "cells": [
  {
   "cell_type": "code",
   "execution_count": 9,
   "id": "3bf0847d-7262-4a17-ad21-5f21bbecd620",
   "metadata": {},
   "outputs": [],
   "source": [
    "from nltk.corpus import propbank\n",
    "pb_instances = propbank.instances()"
   ]
  },
  {
   "cell_type": "code",
   "execution_count": 15,
   "id": "d7325b71-cdbc-4170-b2da-b15c30f272c0",
   "metadata": {},
   "outputs": [
    {
     "data": {
      "text/plain": [
       "<_io.BytesIO at 0x7dc5e184f8d0>"
      ]
     },
     "execution_count": 15,
     "metadata": {},
     "output_type": "execute_result"
    }
   ],
   "source": [
    "pb_instances.fileid.open()"
   ]
  }
 ],
 "metadata": {
  "kernelspec": {
   "display_name": "Python 3 (ipykernel)",
   "language": "python",
   "name": "python3"
  },
  "language_info": {
   "codemirror_mode": {
    "name": "ipython",
    "version": 3
   },
   "file_extension": ".py",
   "mimetype": "text/x-python",
   "name": "python",
   "nbconvert_exporter": "python",
   "pygments_lexer": "ipython3",
   "version": "3.11.6"
  }
 },
 "nbformat": 4,
 "nbformat_minor": 5
}
